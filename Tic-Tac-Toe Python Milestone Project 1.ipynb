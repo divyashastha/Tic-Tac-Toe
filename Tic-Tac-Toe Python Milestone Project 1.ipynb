{
 "cells": [
  {
   "cell_type": "code",
   "execution_count": 1,
   "id": "f10b433b",
   "metadata": {},
   "outputs": [],
   "source": [
    "def display_board(board):\n",
    "    \n",
    "    print(board[1]+'|'+board[2]+'|'+board[3])\n",
    "    \n",
    "    print(board[4]+'|'+board[5]+'|'+board[6])\n",
    "   \n",
    "    print(board[7]+'|'+board[8]+'|'+board[9])\n",
    "    "
   ]
  },
  {
   "cell_type": "code",
   "execution_count": 2,
   "id": "8f3380b9",
   "metadata": {},
   "outputs": [],
   "source": [
    "def player_input():\n",
    "    \n",
    "    while True:\n",
    "        choice = input('Please choose your game marker, X or O: ')\n",
    "        if choice not in ['X','O']:\n",
    "            print('Please enter a valid choice, X or O to continue:  ')\n",
    "        else:\n",
    "            print('Your choice is: {}'.format(choice))\n",
    "            return choice\n"
   ]
  },
  {
   "cell_type": "code",
   "execution_count": 3,
   "id": "b58a8da9",
   "metadata": {},
   "outputs": [],
   "source": [
    "def place_marker(board, marker, position):\n",
    "    \n",
    "    board[position] = marker\n",
    "    \n",
    "    return board\n",
    "    "
   ]
  },
  {
   "cell_type": "code",
   "execution_count": 4,
   "id": "7615a642",
   "metadata": {},
   "outputs": [],
   "source": [
    "def win_check(board, mark):\n",
    "    if (board[1] == board[2] == board[3] == mark):\n",
    "        return True\n",
    "    elif (board[4] == board[5] == board[6] == mark):\n",
    "        return True\n",
    "    elif (board[7] == board[8] == board[9] == mark):\n",
    "        return True\n",
    "    elif (board[1] == board[5] == board[9] == mark):\n",
    "        return True\n",
    "    elif (board[3] == board[5] == board[7] == mark):\n",
    "        return True\n",
    "    elif (board[1] == board[4] == board[7] == mark):\n",
    "        return True\n",
    "    elif (board[2] == board[5] == board[8] == mark):\n",
    "        return True\n",
    "    elif (board[3] == board[6] == board[9] == mark):\n",
    "        return True\n",
    "    else:\n",
    "        return False\n",
    "        "
   ]
  },
  {
   "cell_type": "code",
   "execution_count": 5,
   "id": "6435f970",
   "metadata": {},
   "outputs": [],
   "source": [
    "import random \n",
    "\n",
    "def choose_first():\n",
    "    \n",
    "    playername = random.randint(1,2)\n",
    "    print('Player {} goes first'.format(str(playername)))\n",
    "    "
   ]
  },
  {
   "cell_type": "code",
   "execution_count": 6,
   "id": "02a932d3",
   "metadata": {},
   "outputs": [],
   "source": [
    "def space_check(board, position):\n",
    "    \n",
    "    if board[position] == '':\n",
    "        \n",
    "        return True\n",
    "    else:\n",
    "        return False\n"
   ]
  },
  {
   "cell_type": "code",
   "execution_count": 7,
   "id": "30c18969",
   "metadata": {},
   "outputs": [],
   "source": [
    "def full_board_check(board):\n",
    "    i = 1\n",
    "    j = 9\n",
    "    while i <= j:\n",
    "        if board[i] == '':\n",
    "            return False\n",
    "        else:\n",
    "            i+=1\n",
    "    return True\n",
    "            "
   ]
  },
  {
   "cell_type": "code",
   "execution_count": 8,
   "id": "2f1499a4",
   "metadata": {},
   "outputs": [],
   "source": [
    "def player_choice(board):\n",
    "    \n",
    "    nextposition = int(input('Please choose your position on board to play: '))\n",
    "    \n",
    "    if nextposition in range(1,10):\n",
    "    \n",
    "        getposition = space_check(board,nextposition)\n",
    "    \n",
    "        if getposition == True:\n",
    "            return int(nextposition)\n",
    "        else:\n",
    "            return player_choice(board)\n",
    "    \n",
    "    else: \n",
    "        nextposition = int(input('Please choose a valid position, between 1 to 9, on board to play: '))\n",
    "        getposition = space_check(board,nextposition)\n",
    "    \n",
    "        if getposition == True:\n",
    "            return int(nextposition)\n",
    "        else:\n",
    "            return player_choice(board)"
   ]
  },
  {
   "cell_type": "code",
   "execution_count": 9,
   "id": "da3cc3d4",
   "metadata": {},
   "outputs": [],
   "source": [
    "def replay():\n",
    "    replay_choice = input('Do you wish to play again? Y or N ')\n",
    "    \n",
    "    if replay_choice == 'Y':\n",
    "        return True\n",
    "    elif replay_choice == 'N':\n",
    "        return False\n",
    "    elif replay_choice not in ('Y','N'):\n",
    "        replay_choice = input('Please choose Y or N: ')\n",
    "    "
   ]
  },
  {
   "cell_type": "code",
   "execution_count": 10,
   "id": "8f6c9678",
   "metadata": {},
   "outputs": [
    {
     "name": "stdout",
     "output_type": "stream",
     "text": [
      "Welcome to Tic Tac Toe!\n",
      "||\n",
      "||\n",
      "||\n",
      "The program decides - \n",
      "Player 2 goes first\n",
      "Please choose your game marker, X or O: X\n",
      "Your choice is: X\n",
      "Please choose your position on board to play: 1\n",
      "X||\n",
      "||\n",
      "||\n",
      "Please choose your position on board to play: 2\n",
      "X|O|\n",
      "||\n",
      "||\n",
      "Please choose your position on board to play: 3\n",
      "X|O|X\n",
      "||\n",
      "||\n",
      "Please choose your position on board to play: 4\n",
      "X|O|X\n",
      "O||\n",
      "||\n",
      "Please choose your position on board to play: 5\n",
      "X|O|X\n",
      "O|X|\n",
      "||\n",
      "Please choose your position on board to play: 6\n",
      "X|O|X\n",
      "O|X|O\n",
      "||\n",
      "Please choose your position on board to play: 7\n",
      "X|O|X\n",
      "O|X|O\n",
      "X||\n",
      "You Won!\n",
      "Do you wish to play again? Y or N N\n"
     ]
    }
   ],
   "source": [
    "print('Welcome to Tic Tac Toe!')\n",
    "\n",
    "while True:\n",
    "    game_on = True\n",
    "    board = ['#','','','','','','','','','']\n",
    "    display_board(board)\n",
    "    print('The program decides - ')\n",
    "    player1 = choose_first()\n",
    "    if player1 == '1':\n",
    "        player2 = '2'\n",
    "    else:\n",
    "        player2 = '1'   \n",
    "    choice = player_input()\n",
    "    while game_on:        \n",
    "        #player 1\n",
    "        currentposition = player_choice(board)\n",
    "        board = place_marker(board,choice,currentposition)\n",
    "        display_board(board)\n",
    "        space_check(board,currentposition)\n",
    "        boardcheck = full_board_check(board)\n",
    "        winner = win_check(board,choice)\n",
    "        if choice == 'X':\n",
    "            choice = 'O'\n",
    "        else: \n",
    "            choice = 'X'\n",
    "            \n",
    "        if boardcheck == True:\n",
    "            if winner == True:\n",
    "                print(f'You Won!')\n",
    "            game_on = False\n",
    "        if winner == True:\n",
    "            print(f'You Won!')\n",
    "            game_on = False\n",
    "    \n",
    "    #continue game or not\n",
    "    if replay() == True:\n",
    "        pass\n",
    "    else:\n",
    "        break\n",
    "    \n",
    "            \n",
    "        "
   ]
  },
  {
   "cell_type": "code",
   "execution_count": null,
   "id": "8a53ddc3",
   "metadata": {},
   "outputs": [],
   "source": []
  }
 ],
 "metadata": {
  "kernelspec": {
   "display_name": "Python 3 (ipykernel)",
   "language": "python",
   "name": "python3"
  },
  "language_info": {
   "codemirror_mode": {
    "name": "ipython",
    "version": 3
   },
   "file_extension": ".py",
   "mimetype": "text/x-python",
   "name": "python",
   "nbconvert_exporter": "python",
   "pygments_lexer": "ipython3",
   "version": "3.9.12"
  }
 },
 "nbformat": 4,
 "nbformat_minor": 5
}
